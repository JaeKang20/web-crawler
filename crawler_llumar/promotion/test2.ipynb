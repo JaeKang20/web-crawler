{
 "cells": [
  {
   "cell_type": "code",
   "execution_count": 1,
   "metadata": {},
   "outputs": [
    {
     "name": "stdout",
     "output_type": "stream",
     "text": [
      "Data saved to promotion_scraping_results.csv\n",
      "       No                                                 제목         작성일  \\\n",
      "0  NOTICE  뉴스2데이 [인물탐구] 루마썬팅 김우화 대표 - 수많은 최초신화로 혁신적 마케팅의 ...  2018.09.25   \n",
      "1  NOTICE      뉴스2데이 [인물탐구] 루마틴팅 김우화 대표 - 썬팅업계를 뒤집은 역발상의 승부사  2018.09.23   \n",
      "2  NOTICE             [인터뷰기사] 문화일보 골프와 나에 소개된 루마코리아 김우화 대표이사  2018.01.23   \n",
      "3      67                       루마 CM송 2편 - 대한민국 3대 마요~ 루마요~  2021.05.27   \n",
      "4      66                             루마 CM송 1편 - 루마버텍스 SONG  2021.05.27   \n",
      "\n",
      "     조회                                                 본문  \n",
      "0  8441  [ 인물탐구 ] 루마썬팅 김우화\\r\\n대표 ② 성과 : 수많은 ‘ 최초\\r\\n신화 ...  \n",
      "1  8354  [인물탐구] 루마윈도틴팅 김우화 대표 ① 경력: 삼성전자 나와 썬팅업계를 뒤집은 역...  \n",
      "2  8637  문화일보, 스포츠 - 골프와 나에 소개된 루마코리아 김우화 대표이사 ‘ 선팅 神話 ...  \n",
      "3  1569                                                     \n",
      "4  1722                                                     \n"
     ]
    }
   ],
   "source": [
    "import requests\n",
    "from bs4 import BeautifulSoup\n",
    "import pandas as pd\n",
    "\n",
    "# URL 설정\n",
    "base_url = \"http://llumar.co.kr/sub_bbs/bbs_list.php?curr_page={}&bcode=11&list_count=1&sch_option=&sch_str=\"\n",
    "\n",
    "# 데이터 저장용 리스트\n",
    "data = []\n",
    "\n",
    "# 페이지 순회\n",
    "page_num = 1\n",
    "while True:\n",
    "    url = base_url.format(page_num)\n",
    "    response = requests.get(url)\n",
    "    response.encoding = 'euc-kr'\n",
    "    soup = BeautifulSoup(response.text, 'html.parser')\n",
    "\n",
    "    # 테이블 행 추출\n",
    "    rows = soup.select('table > tbody > tr')\n",
    "    valid_data_found = False\n",
    "\n",
    "    for row in rows:\n",
    "        cols = row.find_all('td')\n",
    "        if len(cols) == 4:\n",
    "            no = cols[0].text.strip()\n",
    "            title_tag = cols[1].find('a')\n",
    "            title = title_tag.text.strip()\n",
    "            link = title_tag['href']\n",
    "            date = cols[2].text.strip()\n",
    "            views = cols[3].text.strip()\n",
    "\n",
    "            # 본문 내용 가져오기\n",
    "            full_url = f\"http://www.llumar.co.kr/sub_bbs/{link}\"\n",
    "            detail_response = requests.get(full_url)\n",
    "            detail_response.encoding = 'euc-kr'\n",
    "            detail_soup = BeautifulSoup(detail_response.text, 'html.parser')\n",
    "            content_div = detail_soup.find('div', class_='bbs_view')\n",
    "            if content_div:\n",
    "                content = ' '.join(content_div.stripped_strings)\n",
    "            else:\n",
    "                content = \"No content found\"\n",
    "\n",
    "            data.append([no, title, date, views, content])\n",
    "            valid_data_found = True\n",
    "\n",
    "    if not valid_data_found:\n",
    "        break\n",
    "\n",
    "    next_page_num = page_num + 1\n",
    "    next_page_link = soup.find('a', href=lambda href: href and f'curr_page={next_page_num}' in href)\n",
    "    if not next_page_link:\n",
    "        break\n",
    "\n",
    "    page_num += 1\n"
   ]
  },
  {
   "cell_type": "code",
   "execution_count": 2,
   "metadata": {},
   "outputs": [
    {
     "data": {
      "text/plain": [
       "'매일경제TV 인터뷰 스틸컷'"
      ]
     },
     "execution_count": 2,
     "metadata": {},
     "output_type": "execute_result"
    }
   ],
   "source": [
    "\n",
    "content"
   ]
  },
  {
   "cell_type": "code",
   "execution_count": 5,
   "metadata": {},
   "outputs": [
    {
     "name": "stdout",
     "output_type": "stream",
     "text": [
      "\n"
     ]
    }
   ],
   "source": [
    "print(df.loc[3, '본문'])\n"
   ]
  },
  {
   "cell_type": "code",
   "execution_count": null,
   "metadata": {},
   "outputs": [],
   "source": []
  }
 ],
 "metadata": {
  "kernelspec": {
   "display_name": "py39env",
   "language": "python",
   "name": "python3"
  },
  "language_info": {
   "codemirror_mode": {
    "name": "ipython",
    "version": 3
   },
   "file_extension": ".py",
   "mimetype": "text/x-python",
   "name": "python",
   "nbconvert_exporter": "python",
   "pygments_lexer": "ipython3",
   "version": "3.9.19"
  }
 },
 "nbformat": 4,
 "nbformat_minor": 2
}
