{
 "cells": [
  {
   "cell_type": "code",
   "execution_count": 43,
   "metadata": {},
   "outputs": [],
   "source": [
    "import requests\n",
    "from bs4 import BeautifulSoup\n",
    "import pandas as pd"
   ]
  },
  {
   "cell_type": "code",
   "execution_count": 44,
   "metadata": {},
   "outputs": [],
   "source": [
    "# # URL 설정\n",
    "# base_url = \"http://www.llumar.co.kr/sub_bbs/bbs_list.php?curr_page={}&bcode=9&list_count=20&sch_option=&sch_str=\"\n",
    "\n",
    "# # 페이지 순회\n",
    "# page_num = 1\n",
    "\n",
    "# while True:\n",
    "#     url = base_url.format(page_num)\n",
    "    \n",
    "#     try:\n",
    "#         response = requests.get(url, timeout=10)  # 10초 타임아웃 설정\n",
    "#     except requests.Timeout:\n",
    "#         print(f\"Scraping ended at page {page_num} due to timeout\")\n",
    "#         break  # 타임아웃 발생 시 루프 종료\n",
    "#     except requests.RequestException as e:\n",
    "#         print(f\"Scraping ended at page {page_num} due to request exception: {e}\")\n",
    "#         break  # 기타 요청 오류 발생 시 루프 종료\n",
    "    \n",
    "#     if response.status_code != 200:\n",
    "#         print(f\"Scraping ended at page {page_num} due to non-200 status code: {response.status_code}\")\n",
    "#         break  # 페이지가 존재하지 않는 경우 루프 종료\n",
    "\n",
    "#     response.encoding = 'euc-kr'  # 한글 깨짐 방지\n",
    "#     soup = BeautifulSoup(response.text, 'html.parser')\n",
    "\n",
    "#     # 테이블 행 추출\n",
    "#     rows = soup.select('table > tbody > tr')\n",
    "    \n",
    "#     # 유효한 행이 있는지 확인\n",
    "#     valid_data_found = False\n",
    "#     for row in rows:\n",
    "#         cols = row.find_all('td')\n",
    "#         if len(cols) == 4:\n",
    "#             valid_data_found = True\n",
    "#             break\n",
    "    \n",
    "#     if not valid_data_found:\n",
    "#         print(f\"Scraping ended at page {page_num} due to no valid data found\")\n",
    "#         break  # 유효한 데이터가 없는 경우 루프 종료\n",
    "\n",
    "#     # Check for the presence of a next page link by finding the link to the next page number\n",
    "#     next_page_num = page_num + 1\n",
    "#     next_page_link = soup.find('a', href=lambda href: href and f'curr_page={next_page_num}' in href)\n",
    "#     if not next_page_link:\n",
    "#         print(f\"Scraping ended at page {page_num} as no next page link was found\")\n",
    "#         break\n",
    "\n",
    "#     page_num += 1\n",
    "\n",
    "# print(f\"Scraping completed up to page {page_num}\")"
   ]
  },
  {
   "cell_type": "markdown",
   "metadata": {},
   "source": [
    "# 위 코드는 어느 페이지까지 찾는지 보기 위함"
   ]
  },
  {
   "cell_type": "code",
   "execution_count": 45,
   "metadata": {},
   "outputs": [],
   "source": [
    "\n",
    "# URL 설정\n",
    "url = \"http://www.llumar.co.kr/sub_bbs/bbs_list.php?curr_page=25&bcode=9&list_count=20&sch_option=&sch_str=\"\n",
    "\n",
    "# 웹 페이지 요청\n",
    "response = requests.get(url)\n",
    "if response.status_code == 200:  # 페이지가 존재하는 경우\n",
    "    response.encoding = 'euc-kr'  # 한글 깨짐 방지\n",
    "    soup = BeautifulSoup(response.text, 'html.parser')\n",
    "\n",
    "# 테이블 행 추출\n",
    "rows = soup.select('tr')\n"
   ]
  },
  {
   "cell_type": "code",
   "execution_count": 46,
   "metadata": {},
   "outputs": [
    {
     "data": {
      "text/plain": [
       "[<tr>\n",
       " <th class=\"hidden-phone\" style=\"text-align:center;\">No.</th>\n",
       " <th style=\"text-align:center;\">제 목</th>\n",
       " <th class=\"hidden-phone\" style=\"text-align:center;\">작성일</th>\n",
       " <th class=\"hidden-phone\" style=\"text-align:center;\">조 회</th>\n",
       " </tr>,\n",
       " <tr> <td class=\"hidden-phone\"><span class=\"zn_badge_new\">NOTICE</span></td> <td style=\"text-align:left;\"><a href=\"bbs_view.php?curr_page=25&amp;bcode=9&amp;list_count=20&amp;sch_option=&amp;sch_str=&amp;seq=647\">[공지] 루마버텍스는 미국 제조원의 정식제품입니다</a></td> <td class=\"hidden-phone\">2022.10.31</td> <td class=\"hidden-phone\">12573</td></tr>,\n",
       " <tr> <td class=\"hidden-phone\"><span class=\"zn_badge_new\">NOTICE</span></td> <td style=\"text-align:left;\"><a href=\"bbs_view.php?curr_page=25&amp;bcode=9&amp;list_count=20&amp;sch_option=&amp;sch_str=&amp;seq=643\">[공지]루마 코리아 정식유통 제품의 시공 및 불법 유통제품 주의에 대한 안내문</a></td> <td class=\"hidden-phone\">2022.03.18</td> <td class=\"hidden-phone\">15370</td></tr>,\n",
       " <tr> <td class=\"hidden-phone\">15</td> <td style=\"text-align:left;\"><a href=\"bbs_view.php?curr_page=25&amp;bcode=9&amp;list_count=20&amp;sch_option=&amp;sch_str=&amp;seq=47\">루마필름업체탐방  TV 방영안내</a></td> <td class=\"hidden-phone\">2007.03.31</td> <td class=\"hidden-phone\">5262</td></tr>,\n",
       " <tr> <td class=\"hidden-phone\">14</td> <td style=\"text-align:left;\"><a href=\"bbs_view.php?curr_page=25&amp;bcode=9&amp;list_count=20&amp;sch_option=&amp;sch_str=&amp;seq=45\">경기 이천점 정식오픈</a></td> <td class=\"hidden-phone\">2007.01.26</td> <td class=\"hidden-phone\">4125</td></tr>,\n",
       " <tr> <td class=\"hidden-phone\">13</td> <td style=\"text-align:left;\"><a href=\"bbs_view.php?curr_page=25&amp;bcode=9&amp;list_count=20&amp;sch_option=&amp;sch_str=&amp;seq=43\">2007루마컨벤션을 마치며</a></td> <td class=\"hidden-phone\">2007.01.11</td> <td class=\"hidden-phone\">4351</td></tr>,\n",
       " <tr> <td class=\"hidden-phone\">12</td> <td style=\"text-align:left;\"><a href=\"bbs_view.php?curr_page=25&amp;bcode=9&amp;list_count=20&amp;sch_option=&amp;sch_str=&amp;seq=42\">2007 루마  Convention안내</a></td> <td class=\"hidden-phone\">2007.01.04</td> <td class=\"hidden-phone\">4154</td></tr>,\n",
       " <tr> <td class=\"hidden-phone\">11</td> <td style=\"text-align:left;\"><a href=\"bbs_view.php?curr_page=25&amp;bcode=9&amp;list_count=20&amp;sch_option=&amp;sch_str=&amp;seq=41\">루마점 신규오픈(대전서구갈마점)</a></td> <td class=\"hidden-phone\">2007.01.04</td> <td class=\"hidden-phone\">4117</td></tr>,\n",
       " <tr> <td class=\"hidden-phone\">10</td> <td style=\"text-align:left;\"><a href=\"bbs_view.php?curr_page=25&amp;bcode=9&amp;list_count=20&amp;sch_option=&amp;sch_str=&amp;seq=39\">미국 루마필름의 성탄축하 메세지</a></td> <td class=\"hidden-phone\">2006.12.21</td> <td class=\"hidden-phone\">5951</td></tr>,\n",
       " <tr> <td class=\"hidden-phone\">9</td> <td style=\"text-align:left;\"><a href=\"bbs_view.php?curr_page=25&amp;bcode=9&amp;list_count=20&amp;sch_option=&amp;sch_str=&amp;seq=37\">신상품(PinnaCOOL) 출시</a></td> <td class=\"hidden-phone\">2006.11.29</td> <td class=\"hidden-phone\">4575</td></tr>,\n",
       " <tr> <td class=\"hidden-phone\">8</td> <td style=\"text-align:left;\"><a href=\"bbs_view.php?curr_page=25&amp;bcode=9&amp;list_count=20&amp;sch_option=&amp;sch_str=&amp;seq=36\">신상품 시공사례(피너쿨/슈퍼럭스)입니다.</a></td> <td class=\"hidden-phone\">2006.11.29</td> <td class=\"hidden-phone\">4899</td></tr>,\n",
       " <tr> <td class=\"hidden-phone\">7</td> <td style=\"text-align:left;\"><a href=\"bbs_view.php?curr_page=25&amp;bcode=9&amp;list_count=20&amp;sch_option=&amp;sch_str=&amp;seq=35\">신상품 (피너쿨/슈퍼럭스) 시공사례1</a></td> <td class=\"hidden-phone\">2006.11.18</td> <td class=\"hidden-phone\">5024</td></tr>,\n",
       " <tr> <td class=\"hidden-phone\">6</td> <td style=\"text-align:left;\"><a href=\"bbs_view.php?curr_page=25&amp;bcode=9&amp;list_count=20&amp;sch_option=&amp;sch_str=&amp;seq=34\">보증서인증제도안내</a></td> <td class=\"hidden-phone\">2006.10.17</td> <td class=\"hidden-phone\">7183</td></tr>,\n",
       " <tr> <td class=\"hidden-phone\">5</td> <td style=\"text-align:left;\"><a href=\"bbs_view.php?curr_page=25&amp;bcode=9&amp;list_count=20&amp;sch_option=&amp;sch_str=&amp;seq=33\">회원 실명제 실시 및 개정된 주민등록법 안내</a></td> <td class=\"hidden-phone\">2006.10.01</td> <td class=\"hidden-phone\">4161</td></tr>,\n",
       " <tr> <td class=\"hidden-phone\">4</td> <td style=\"text-align:left;\"><a href=\"bbs_view.php?curr_page=25&amp;bcode=9&amp;list_count=20&amp;sch_option=&amp;sch_str=&amp;seq=32\">유사품주의!! 브랜드도용 신고</a></td> <td class=\"hidden-phone\">2006.09.08</td> <td class=\"hidden-phone\">5009</td></tr>,\n",
       " <tr> <td class=\"hidden-phone\">3</td> <td style=\"text-align:left;\"><a href=\"bbs_view.php?curr_page=25&amp;bcode=9&amp;list_count=20&amp;sch_option=&amp;sch_str=&amp;seq=29\">브랜드 도용 및 유사품 신고 안내문</a></td> <td class=\"hidden-phone\">2006.08.29</td> <td class=\"hidden-phone\">4425</td></tr>,\n",
       " <tr> <td class=\"hidden-phone\">2</td> <td style=\"text-align:left;\"><a href=\"bbs_view.php?curr_page=25&amp;bcode=9&amp;list_count=20&amp;sch_option=&amp;sch_str=&amp;seq=28\">긴급!! 유사품 주의</a></td> <td class=\"hidden-phone\">2006.08.29</td> <td class=\"hidden-phone\">14623</td></tr>,\n",
       " <tr> <td class=\"hidden-phone\">1</td> <td style=\"text-align:left;\"><a href=\"bbs_view.php?curr_page=25&amp;bcode=9&amp;list_count=20&amp;sch_option=&amp;sch_str=&amp;seq=25\">루마썬팅필름 본사홈페이지 개편안내</a></td> <td class=\"hidden-phone\">2006.08.28</td> <td class=\"hidden-phone\">4165</td></tr>]"
      ]
     },
     "execution_count": 46,
     "metadata": {},
     "output_type": "execute_result"
    }
   ],
   "source": [
    "rows"
   ]
  },
  {
   "cell_type": "code",
   "execution_count": 47,
   "metadata": {},
   "outputs": [
    {
     "name": "stdout",
     "output_type": "stream",
     "text": [
      "<tr> <td class=\"hidden-phone\"><span class=\"zn_badge_new\">NOTICE</span></td> <td style=\"text-align:left;\"><a href=\"bbs_view.php?curr_page=25&amp;bcode=9&amp;list_count=20&amp;sch_option=&amp;sch_str=&amp;seq=647\">[공지] 루마버텍스는 미국 제조원의 정식제품입니다</a></td> <td class=\"hidden-phone\">2022.10.31</td> <td class=\"hidden-phone\">12573</td></tr>\n"
     ]
    }
   ],
   "source": [
    "single_row = rows[1]  # 두 번째 row를 꺼냅니다\n",
    "print(single_row)"
   ]
  },
  {
   "cell_type": "code",
   "execution_count": 48,
   "metadata": {},
   "outputs": [
    {
     "name": "stdout",
     "output_type": "stream",
     "text": [
      "No: NOTICE\n",
      "Title: [공지] 루마버텍스는 미국 제조원의 정식제품입니다\n",
      "Date: 2022.10.31\n",
      "Views: 12573\n"
     ]
    }
   ],
   "source": [
    "# 각 컬럼을 추출\n",
    "cols = single_row.find_all('td')\n",
    "\n",
    "# 필요한 데이터 추출\n",
    "no = cols[0].text.strip()\n",
    "title = cols[1].text.strip()\n",
    "date = cols[2].text.strip()\n",
    "views = cols[3].text.strip()\n",
    "\n",
    "# 결과 출력\n",
    "print(f\"No: {no}\")\n",
    "print(f\"Title: {title}\")\n",
    "print(f\"Date: {date}\")\n",
    "print(f\"Views: {views}\")"
   ]
  },
  {
   "cell_type": "code",
   "execution_count": 49,
   "metadata": {},
   "outputs": [],
   "source": [
    "# whatsnew.py에서 for문으로 페이지 돌림"
   ]
  },
  {
   "cell_type": "code",
   "execution_count": 53,
   "metadata": {},
   "outputs": [
    {
     "data": {
      "text/plain": [
       "'루마썬팅필름 본사홈페이지 개편안내'"
      ]
     },
     "execution_count": 53,
     "metadata": {},
     "output_type": "execute_result"
    }
   ],
   "source": [
    "title"
   ]
  },
  {
   "cell_type": "code",
   "execution_count": 54,
   "metadata": {},
   "outputs": [
    {
     "name": "stdout",
     "output_type": "stream",
     "text": [
      "        No                                           제목         작성일     조회  \\\n",
      "0   NOTICE                  [공지] 루마버텍스는 미국 제조원의 정식제품입니다  2022.10.31  12574   \n",
      "1   NOTICE  [공지]루마 코리아 정식유통 제품의 시공 및 불법 유통제품 주의에 대한 안내문  2022.03.18  15370   \n",
      "2       15                            루마필름업체탐방  TV 방영안내  2007.03.31   5262   \n",
      "3       14                                  경기 이천점 정식오픈  2007.01.26   4125   \n",
      "4       13                               2007루마컨벤션을 마치며  2007.01.11   4351   \n",
      "5       12                        2007 루마  Convention안내  2007.01.04   4154   \n",
      "6       11                            루마점 신규오픈(대전서구갈마점)  2007.01.04   4117   \n",
      "7       10                            미국 루마필름의 성탄축하 메세지  2006.12.21   5951   \n",
      "8        9                            신상품(PinnaCOOL) 출시  2006.11.29   4575   \n",
      "9        8                       신상품 시공사례(피너쿨/슈퍼럭스)입니다.  2006.11.29   4899   \n",
      "10       7                         신상품 (피너쿨/슈퍼럭스) 시공사례1  2006.11.18   5024   \n",
      "11       6                                    보증서인증제도안내  2006.10.17   7183   \n",
      "12       5                     회원 실명제 실시 및 개정된 주민등록법 안내  2006.10.01   4161   \n",
      "13       4                             유사품주의!! 브랜드도용 신고  2006.09.08   5009   \n",
      "14       3                          브랜드 도용 및 유사품 신고 안내문  2006.08.29   4425   \n",
      "15       2                                  긴급!! 유사품 주의  2006.08.29  14623   \n",
      "16       1                           루마썬팅필름 본사홈페이지 개편안내  2006.08.28   4165   \n",
      "\n",
      "                                                   본문  \n",
      "0   썬팅업계와 일부 커뮤니티에서 루마 버텍스 제품은 한국과 중국에서 제조된 제품이고 한...  \n",
      "1   루마 공식 인증점 및 루마 고객님들께 안내 말씀을드립니다.최근에 루마 공식 인증점이...  \n",
      "2   4월3일 PM11시에 위성방송인 스피드스포츠/채널504에서 \\r\\n2007서울모터쇼...  \n",
      "3   경기 이천점이 실내공사를 마치고 정식으로 오픈되었습니다.\\r\\n1월26일부터 정상적...  \n",
      "4   2006루마 컨벤션이 전국 루마점 점장님과 귀빈들을 모시고 성황리에 잘 마쳤습니다....  \n",
      "5   새해 복 많이 받으세요.\\r\\n\\r\\n새해벽두에 내외빈과 루마관련 협력업체관계자님,...  \n",
      "6   새해 복 많이 받으세요.\\r\\n올 한 해에도 고객님의 평안과 행복을 기원합니다.\\r...  \n",
      "7   미국 루마필름 본사에서 한국으로 보내온 성탄축하메세지입니다.\\r\\n한 해동안 성원해...  \n",
      "8              퍼스트 클래스 루마 피너쿨로 시공된 차량모습입니다.\\r\\n감사합니다.  \n",
      "9   퍼스트클래스 루마 피너쿨\\r\\n슈퍼클래스 루마 슈퍼럭스로 시공된 차량모습입니다.\\r...  \n",
      "10  루마의 최고급형필름인 피너쿨, 슈퍼럭스가 도입되었습니다.\\r\\n시공사례에서 사용필름...  \n",
      "11  루마에서는 새로운 보증제도를 도입하여 실시하려합니다.\\r\\n새로운 보증제도는 시공점...  \n",
      "12  안녕하세요. 루마썬팅필름(주) 입니다.\\r\\n\\r\\n건전한 인터넷 문화 향상을 위하...  \n",
      "13  루마에서는 브랜드도용의 사례가 빈번하게 발생함에 따라 브랜드도용신고센터를 운영합니다...  \n",
      "14  루마필름의 명성을 등에 업은 유사품의 사용이 늘어나고 있습니다.\\r\\n당사에서는 유...  \n",
      "15  루마유사품에 주의하십시오.\\r\\n루마정품은 루마전문시공점에서만 취급됩니다.\\r\\n다...  \n",
      "16  안녕하세요.\\r\\n루마썬팅필름 본사 홈페이지 방문을 환영합니다.\\r\\n고맙습니다.\\...  \n"
     ]
    }
   ],
   "source": [
    "import requests\n",
    "from bs4 import BeautifulSoup\n",
    "import pandas as pd\n",
    "\n",
    "# URL 설정\n",
    "base_url = \"http://www.llumar.co.kr/sub_bbs/\"\n",
    "\n",
    "# 데이터 저장용 리스트\n",
    "data = []\n",
    "\n",
    "# 페이지 순회\n",
    "page_num = 25  # You can start from any specific page\n",
    "\n",
    "url = f\"{base_url}bbs_list.php?curr_page={page_num}&bcode=9&list_count=20&sch_option=&sch_str=\"\n",
    "\n",
    "# 웹 페이지 요청\n",
    "response = requests.get(url)\n",
    "if response.status_code == 200:  # 페이지가 존재하는 경우\n",
    "    response.encoding = 'euc-kr'  # 한글 깨짐 방지\n",
    "    soup = BeautifulSoup(response.text, 'html.parser')\n",
    "\n",
    "    # 테이블 행 추출\n",
    "    rows = soup.select('table > tbody > tr')\n",
    "\n",
    "    for row in rows:\n",
    "        cols = row.find_all('td')\n",
    "        if len(cols) >= 4:\n",
    "            no = cols[0].text.strip()\n",
    "            title_tag = cols[1].find('a')\n",
    "            title = title_tag.get_text(strip=True)\n",
    "            link = title_tag['href']\n",
    "            date = cols[2].text.strip()\n",
    "            views = cols[3].text.strip()\n",
    "\n",
    "            # Fetch detailed content\n",
    "            full_url = base_url + link\n",
    "            try:\n",
    "                detail_response = requests.get(full_url, timeout=10)\n",
    "                detail_response.encoding = 'euc-kr'\n",
    "                detail_soup = BeautifulSoup(detail_response.text, 'html.parser')\n",
    "                content_div = detail_soup.find('div', class_='bbs_view')\n",
    "                content = content_div.get_text(strip=True) if content_div else \"No content found\"\n",
    "            except Exception as e:\n",
    "                print(f\"Failed to retrieve article content from {full_url}: {e}\")\n",
    "                content = \"Failed to retrieve content\"\n",
    "\n",
    "            data.append([no, title, date, views, content])\n",
    "\n",
    "    # 데이터프레임 생성 및 출력\n",
    "    df = pd.DataFrame(data, columns=['No', '제목', '작성일', '조회', '본문'])\n",
    "    df.to_csv(\"whatsnews_scraping_results.csv\", index=False, encoding='utf-8-sig')\n",
    "    print(df)\n",
    "else:\n",
    "    print(f\"Failed to retrieve the page, status code: {response.status_code}\")\n"
   ]
  },
  {
   "cell_type": "code",
   "execution_count": 55,
   "metadata": {},
   "outputs": [
    {
     "data": {
      "text/plain": [
       "'안녕하세요.\\r\\n루마썬팅필름 본사 홈페이지 방문을 환영합니다.\\r\\n고맙습니다.\\r\\n루마썬팅필름 홈페이지를 이용해 주셨던 수많은 고객님께 머리숙여 감사드립니다.\\r\\n지금까지 썬팅업계의 자존심으로 성장할 수 있도록 사랑해주신 고객님의 성원에도 감사드립니다.\\r\\n\\r\\n지난 수년동안 고객님의 사랑으로 성장한 루마필름이 홈페이지를 새롭게 개편하여 \\r\\n이제 새로운 모습으로 고객님께 다가갑니다.\\r\\n새로이 선보이는 루마썬팅필름 본사 홈페이지는 회원제로 운영됩니다.\\r\\n회원으로 가입하시면 루마썬팅필름이 제공하는 다양한 서비스를 경험하실 수 있습니다.\\r\\n온라인예약, 차별화된 인터넷보증인증, 1:1밀착고객상담, FAQ등 다양한 서비스와 볼거리, 읽을거리를 제공할 것입니다.\\r\\n아직 부족하지만 최선을 다하여 고객만족과 고객감동을 실천하겠습니다.\\r\\n많은 성원과 이용바랍니다.\\r\\n감사합니다.'"
      ]
     },
     "execution_count": 55,
     "metadata": {},
     "output_type": "execute_result"
    }
   ],
   "source": [
    "content"
   ]
  },
  {
   "cell_type": "code",
   "execution_count": null,
   "metadata": {},
   "outputs": [],
   "source": []
  }
 ],
 "metadata": {
  "kernelspec": {
   "display_name": "py39env",
   "language": "python",
   "name": "python3"
  },
  "language_info": {
   "codemirror_mode": {
    "name": "ipython",
    "version": 3
   },
   "file_extension": ".py",
   "mimetype": "text/x-python",
   "name": "python",
   "nbconvert_exporter": "python",
   "pygments_lexer": "ipython3",
   "version": "3.9.19"
  }
 },
 "nbformat": 4,
 "nbformat_minor": 2
}
