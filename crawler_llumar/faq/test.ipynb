{
 "cells": [
  {
   "cell_type": "code",
   "execution_count": 29,
   "metadata": {},
   "outputs": [],
   "source": [
    "import requests\n",
    "from bs4 import BeautifulSoup\n",
    "import pandas as pd\n",
    "\n",
    "# URL 설정\n",
    "url = \"http://llumar.co.kr/sub_support/faq.php?curr_page=1&list_count=20&sch_str=&sch_cate=\"\n",
    "\n",
    "# 웹 페이지 요청\n",
    "response = requests.get(url)\n",
    "if response.status_code == 200:  # 페이지가 존재하는 경우\n",
    "    response.encoding = 'euc-kr'  # 한글 깨짐 방지\n",
    "    soup = BeautifulSoup(response.text, 'html.parser')\n",
    "\n",
    "# 테이블 행 추출\n",
    "rows = soup.select('tr')\n"
   ]
  },
  {
   "cell_type": "code",
   "execution_count": 30,
   "metadata": {},
   "outputs": [
    {
     "data": {
      "text/plain": [
       "[<tr>\n",
       " <th style=\"text-align:center;\">No.</th>\n",
       " <th style=\"text-align:center;\">중요도</th>\n",
       " <th style=\"text-align:center;\">질문분야</th>\n",
       " <th style=\"text-align:center;\">질문</th>\n",
       " </tr>,\n",
       " <tr> <td>39</td> <td style=\"color:#FF0000;\">★★★★</td> <td>제품/시공관련</td> <td style=\"text-align:left\"><a href=\"faq.php?curr_page=1&amp;list_count=20&amp;sch_str=&amp;sch_cate=&amp;seq=59&amp;mode=view\">타업체에서는 열차단 측정기를 보여주며 자사제품이 루마보다 차단력이 우수하다고 홍보하는데 이것이 사실인가요?</a></td></tr>,\n",
       " <tr> <td>38</td> <td style=\"color:#FF0000;\">★★★★</td> <td>제품/시공관련</td> <td style=\"text-align:left\"><a href=\"faq.php?curr_page=1&amp;list_count=20&amp;sch_str=&amp;sch_cate=&amp;seq=58&amp;mode=view\">루마썬팅필름 정품으로 시공 후 창마다 로고가 다 들어가 있지 않는 이유는?</a></td></tr>,\n",
       " <tr> <td>37</td> <td style=\"color:#FF0000;\">★★★★</td> <td>제품/시공관련</td> <td style=\"text-align:left\"><a href=\"faq.php?curr_page=1&amp;list_count=20&amp;sch_str=&amp;sch_cate=&amp;seq=57&amp;mode=view\">루마썬팅 후 창문에 있는 QR코드가 인식이 잘 안되는 이유는?</a></td></tr>,\n",
       " <tr> <td>36</td> <td style=\"color:#FF0000;\">★★★★★</td> <td>기타관련</td> <td style=\"text-align:left\"><a href=\"faq.php?curr_page=1&amp;list_count=20&amp;sch_str=&amp;sch_cate=&amp;seq=56&amp;mode=view\">올바른 윈도우 필름을 고르는 10가지 요령</a></td></tr>,\n",
       " <tr> <td>35</td> <td style=\"color:#FF0000;\">★★★★★</td> <td>제품/시공관련</td> <td style=\"text-align:left\"><a href=\"faq.php?curr_page=1&amp;list_count=20&amp;sch_str=&amp;sch_cate=&amp;seq=55&amp;mode=view\">루마가 세계 판매1위 썬팅필름 전문 브랜드인데 다른 썬팅브랜드와 비교해서 어떤 점이 다른가요?</a></td></tr>,\n",
       " <tr> <td>34</td> <td style=\"color:#FF0000;\">★★★★★</td> <td>제품/시공관련</td> <td style=\"text-align:left\"><a href=\"faq.php?curr_page=1&amp;list_count=20&amp;sch_str=&amp;sch_cate=&amp;seq=54&amp;mode=view\">로고가 흐릿하게 나오는 이유는 무엇인가요?</a></td></tr>,\n",
       " <tr> <td>33</td> <td style=\"color:#FF0000;\">★★★★★</td> <td>제품/시공관련</td> <td style=\"text-align:left\"><a href=\"faq.php?curr_page=1&amp;list_count=20&amp;sch_str=&amp;sch_cate=&amp;seq=53&amp;mode=view\">썬팅필름 시공 후 겨울철에는 어떤 관리요령이 있나요?</a></td></tr>,\n",
       " <tr> <td>32</td> <td style=\"color:#FF0000;\">★★★★</td> <td>제품/시공관련</td> <td style=\"text-align:left\"><a href=\"faq.php?curr_page=1&amp;list_count=20&amp;sch_str=&amp;sch_cate=&amp;seq=51&amp;mode=view\">루마썬팅의 완벽한 자외선 차단으로 인하여 인체에 필요한 비타민D의 생성에 방해가 되는 것은 아닌지요?</a></td></tr>,\n",
       " <tr> <td>31</td> <td style=\"color:#FF0000;\">★★★★</td> <td>제품/시공관련</td> <td style=\"text-align:left\"><a href=\"faq.php?curr_page=1&amp;list_count=20&amp;sch_str=&amp;sch_cate=&amp;seq=50&amp;mode=view\">집안내 세균을 살균하는 자외선을 루마필름이 99%이상 차단한다면 세균이 증식되는 결과를 가져오는 것은 아닌지요?</a></td></tr>,\n",
       " <tr> <td>30</td> <td style=\"color:#FF0000;\">★★★★★</td> <td>제품/시공관련</td> <td style=\"text-align:left\"><a href=\"faq.php?curr_page=1&amp;list_count=20&amp;sch_str=&amp;sch_cate=&amp;seq=47&amp;mode=view\">열차단효과 과장광고의 허와 실</a></td></tr>,\n",
       " <tr> <td>29</td> <td style=\"color:#FF0000;\">★★★★★</td> <td>제품/시공관련</td> <td style=\"text-align:left\"><a href=\"faq.php?curr_page=1&amp;list_count=20&amp;sch_str=&amp;sch_cate=&amp;seq=46&amp;mode=view\">루마 컬러필름(그린/브라운) 무엇이 특별할까요?</a></td></tr>,\n",
       " <tr> <td>28</td> <td style=\"color:#FF0000;\">★★★★★</td> <td>제품/시공관련</td> <td style=\"text-align:left\"><a href=\"faq.php?curr_page=1&amp;list_count=20&amp;sch_str=&amp;sch_cate=&amp;seq=45&amp;mode=view\">시공후 진품과 가품(짝퉁필름)의 구별이 가능한지요?</a></td></tr>,\n",
       " <tr> <td>27</td> <td style=\"color:#FF0000;\">★★★★★</td> <td>제품/시공관련</td> <td style=\"text-align:left\"><a href=\"faq.php?curr_page=1&amp;list_count=20&amp;sch_str=&amp;sch_cate=&amp;seq=42&amp;mode=view\">루마 정식시공점과 유사시공점(썬팅 멀티샵)은 어떻게 구별할 수 있습니까?</a></td></tr>,\n",
       " <tr> <td>26</td> <td style=\"color:#FF0000;\">★★★★</td> <td>제품/시공관련</td> <td style=\"text-align:left\"><a href=\"faq.php?curr_page=1&amp;list_count=20&amp;sch_str=&amp;sch_cate=&amp;seq=41&amp;mode=view\">레이싱카 전용 신제품 시러스80을 시공하고 싶은데 주의를 요구하는 사항은 없나요? </a></td></tr>,\n",
       " <tr> <td>25</td> <td style=\"color:#FF0000;\">★★★★</td> <td>제품/시공관련</td> <td style=\"text-align:left\"><a href=\"faq.php?curr_page=1&amp;list_count=20&amp;sch_str=&amp;sch_cate=&amp;seq=40&amp;mode=view\">루마필름의 제조원</a></td></tr>,\n",
       " <tr> <td>24</td> <td style=\"color:#FF0000;\">★★★★</td> <td>제품/시공관련</td> <td style=\"text-align:left\"><a href=\"faq.php?curr_page=1&amp;list_count=20&amp;sch_str=&amp;sch_cate=&amp;seq=39&amp;mode=view\">썬팅법규에 부합하면서 차단력이 좋은 제품을 시공하고 싶은데 어떠한 제품으로 시공하면 좋나요?</a></td></tr>,\n",
       " <tr> <td>23</td> <td style=\"color:#FF0000;\">★★★★</td> <td>제품/시공관련</td> <td style=\"text-align:left\"><a href=\"faq.php?curr_page=1&amp;list_count=20&amp;sch_str=&amp;sch_cate=&amp;seq=38&amp;mode=view\">어느 업체에서는 시공기술이 필름의 성능에 많은 영향을 준다고 하는데 사실인지요?</a></td></tr>,\n",
       " <tr> <td>22</td> <td style=\"color:#FF0000;\">★★★★★</td> <td>제품/시공관련</td> <td style=\"text-align:left\"><a href=\"faq.php?curr_page=1&amp;list_count=20&amp;sch_str=&amp;sch_cate=&amp;seq=37&amp;mode=view\">소셜 판매업체에서 루마를 시공한다고 하여 시공받았는데 정품이 맞는지요?</a></td></tr>,\n",
       " <tr> <td>21</td> <td style=\"color:#FF0000;\">★★★★</td> <td>제품/시공관련</td> <td style=\"text-align:left\"><a href=\"faq.php?curr_page=1&amp;list_count=20&amp;sch_str=&amp;sch_cate=&amp;seq=36&amp;mode=view\">프라이버시 글라스나 자외선 차단유리가 있는 차량의 경우도 썬팅을 해야 하나요?  </a></td></tr>,\n",
       " <tr> <td>20</td> <td style=\"color:#FF0000;\">★★★</td> <td>제품/시공관련</td> <td style=\"text-align:left\"><a href=\"faq.php?curr_page=1&amp;list_count=20&amp;sch_str=&amp;sch_cate=&amp;seq=35&amp;mode=view\">루마필름은 미국 피부암협회에 등록되어 있나요?</a></td></tr>]"
      ]
     },
     "execution_count": 30,
     "metadata": {},
     "output_type": "execute_result"
    }
   ],
   "source": [
    "rows"
   ]
  },
  {
   "cell_type": "code",
   "execution_count": 31,
   "metadata": {},
   "outputs": [
    {
     "name": "stdout",
     "output_type": "stream",
     "text": [
      "<tr> <td>39</td> <td style=\"color:#FF0000;\">★★★★</td> <td>제품/시공관련</td> <td style=\"text-align:left\"><a href=\"faq.php?curr_page=1&amp;list_count=20&amp;sch_str=&amp;sch_cate=&amp;seq=59&amp;mode=view\">타업체에서는 열차단 측정기를 보여주며 자사제품이 루마보다 차단력이 우수하다고 홍보하는데 이것이 사실인가요?</a></td></tr>\n"
     ]
    }
   ],
   "source": [
    "# 각 컬럼을 추출\n",
    "single_row = rows[1]  # 두 번째 row를 꺼냅니다\n",
    "print(single_row)"
   ]
  },
  {
   "cell_type": "code",
   "execution_count": 32,
   "metadata": {},
   "outputs": [
    {
     "name": "stdout",
     "output_type": "stream",
     "text": [
      "No: 39\n",
      "Title: ★★★★\n",
      "Date: 제품/시공관련\n",
      "Views: 타업체에서는 열차단 측정기를 보여주며 자사제품이 루마보다 차단력이 우수하다고 홍보하는데 이것이 사실인가요?\n"
     ]
    }
   ],
   "source": [
    "# 각 컬럼을 추출\n",
    "cols = single_row.find_all('td')\n",
    "\n",
    "# 필요한 데이터 추출\n",
    "no = cols[0].text.strip()\n",
    "title = cols[1].text.strip()\n",
    "date = cols[2].text.strip()\n",
    "views = cols[3].text.strip()\n",
    "\n",
    "# 결과 출력\n",
    "print(f\"No: {no}\")\n",
    "print(f\"Title: {title}\")\n",
    "print(f\"Date: {date}\")\n",
    "print(f\"Views: {views}\")"
   ]
  },
  {
   "cell_type": "code",
   "execution_count": 33,
   "metadata": {},
   "outputs": [],
   "source": [
    "# whatsnew.py에서 for문으로 페이지 돌림"
   ]
  }
 ],
 "metadata": {
  "kernelspec": {
   "display_name": "py39env",
   "language": "python",
   "name": "python3"
  },
  "language_info": {
   "codemirror_mode": {
    "name": "ipython",
    "version": 3
   },
   "file_extension": ".py",
   "mimetype": "text/x-python",
   "name": "python",
   "nbconvert_exporter": "python",
   "pygments_lexer": "ipython3",
   "version": "3.9.-1"
  }
 },
 "nbformat": 4,
 "nbformat_minor": 2
}
